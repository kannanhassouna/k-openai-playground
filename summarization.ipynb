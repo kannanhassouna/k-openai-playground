{
 "cells": [
  {
   "cell_type": "code",
   "execution_count": 1,
   "id": "3e447097-f614-40f5-9c36-e9223ff09a4c",
   "metadata": {},
   "outputs": [],
   "source": [
    "from openai import OpenAI"
   ]
  },
  {
   "cell_type": "code",
   "execution_count": 3,
   "id": "7f549a5d-a009-4700-9692-9c30654bbcaf",
   "metadata": {},
   "outputs": [],
   "source": [
    "from dotenv import load_dotenv"
   ]
  },
  {
   "cell_type": "code",
   "execution_count": 4,
   "id": "c17ffdcb-15a2-422a-b531-4706a3dea0fc",
   "metadata": {},
   "outputs": [],
   "source": [
    "import os"
   ]
  },
  {
   "cell_type": "code",
   "execution_count": null,
   "id": "c9ba2afe-f71e-46a2-aa17-13bf65a3e2de",
   "metadata": {},
   "outputs": [],
   "source": []
  },
  {
   "cell_type": "code",
   "execution_count": 5,
   "id": "06be961a-6109-45fd-9666-c80394670ee3",
   "metadata": {},
   "outputs": [
    {
     "data": {
      "text/plain": [
       "True"
      ]
     },
     "execution_count": 5,
     "metadata": {},
     "output_type": "execute_result"
    }
   ],
   "source": [
    "load_dotenv()"
   ]
  },
  {
   "cell_type": "code",
   "execution_count": 7,
   "id": "0db938d4-1aac-43f7-a5bc-024e0848c152",
   "metadata": {},
   "outputs": [],
   "source": [
    "    client = OpenAI(api_key=os.getenv(\"OPENAI_API_KEY\"))"
   ]
  },
  {
   "cell_type": "code",
   "execution_count": 8,
   "id": "e9c4e46b-9247-4413-9158-d8555b0e4eaf",
   "metadata": {},
   "outputs": [],
   "source": [
    "paragraph = \"\"\" \n",
    "Alaska (/əˈlæskə/ ⓘ ə-LASS-kə) is a non-contiguous U.S. state on the northwest extremity of North America. Part of the Western United States region, it is one of the two non-contiguous U.S. states, alongside Hawaii. Alaska is also considered to be the northernmost, westernmost, and easternmost (the Aleutian Islands cross the 180th meridian into the eastern hemisphere) state in the United States. It borders the Canadian territory of Yukon and the province of British Columbia to the east. It shares a western maritime border, in the Bering Strait, with Russia's Chukotka Autonomous Okrug. The Chukchi and Beaufort Seas of the Arctic Ocean lie to the north, and the Pacific Ocean lies to the south. Technically, it is a semi-exclave of the U.S., and is the largest exclave in the world.\n",
    "\n",
    "Alaska is the largest U.S. state by area, comprising more total area than the following three largest states of Texas, California, and Montana combined, and is the seventh-largest subnational division in the world. It is the third-least populous and most sparsely populated U.S. state, but is, with a population of 736,081 as of 2020, the continent's most populous territory located mostly north of the 60th parallel, with more than quadruple the combined populations of Northern Canada and Greenland.[6] The state contains the four largest cities in the United States by area, including the state capital of Juneau. The state's most populous city is Anchorage, and approximately half of Alaska's residents live within its metropolitan area.\n",
    "\n",
    "Indigenous people have lived in Alaska for thousands of years, and it is widely believed that the region served as the entry point for the initial settlement of North America by way of the Bering land bridge. The Russian Empire was the first to actively colonize the area beginning in the 18th century, eventually establishing Russian America, which spanned most of the current state and promoted and maintained a native Alaskan Creole population.[7] The expense and logistical difficulty of maintaining this distant possession prompted its sale to the U.S. in 1867 for US$7.2 million (equivalent to $157 million in 2023). The area went through several administrative changes before becoming organized as a territory on May 11, 1912. It was admitted as the 49th state of the U.S. on January 3, 1959.[8]\n",
    "\n",
    "Abundant natural resources have enabled Alaska— with one of the smallest state economies—to have one of the highest per capita incomes, with commercial fishing, and the extraction of natural gas and oil, dominating Alaska's economy. U.S. Armed Forces bases and tourism also contribute to the economy; more than half of the state is federally-owned land containing national forests, national parks, and wildlife refuges. It is among the most irreligious states, one of the first to legalize recreational marijuana, and is known for its libertarian-leaning political culture, generally supporting the Republican Party in national elections. The Indigenous population of Alaska is proportionally the second highest of any U.S. state, at over 15 percent, after only Hawaii.\"\"\""
   ]
  },
  {
   "cell_type": "code",
   "execution_count": 9,
   "id": "d9c96829-8164-42b1-a2b2-091504437727",
   "metadata": {},
   "outputs": [],
   "source": [
    "res = client.chat.completions.create(model=\"gpt-4o-mini\", messages=[{\"role\": \"user\", \"content\": f\"summarize the input in 4 lines only\\ninput={paragraph}\\nsummary=\"}])"
   ]
  },
  {
   "cell_type": "code",
   "execution_count": 10,
   "id": "aad9720e-0f02-49aa-bd62-7e0b37d5266b",
   "metadata": {},
   "outputs": [
    {
     "name": "stdout",
     "output_type": "stream",
     "text": [
      "Alaska is a non-contiguous U.S. state located on the northwest extremity of North America, known for being the largest state by area and the northernmost, westernmost, and easternmost state. It has a low population density, with the most populous city being Anchorage. Indigenous peoples have lived in the region for millennia, and the area was colonized by the Russian Empire before being sold to the U.S. in 1867. Alaska's economy relies heavily on natural resources, tourism, and military bases, and it features significant Indigenous representation.\n"
     ]
    }
   ],
   "source": [
    "print(res.choices[0].message.content)"
   ]
  }
 ],
 "metadata": {
  "kernelspec": {
   "display_name": "Python 3 (ipykernel)",
   "language": "python",
   "name": "python3"
  },
  "language_info": {
   "codemirror_mode": {
    "name": "ipython",
    "version": 3
   },
   "file_extension": ".py",
   "mimetype": "text/x-python",
   "name": "python",
   "nbconvert_exporter": "python",
   "pygments_lexer": "ipython3",
   "version": "3.11.3"
  }
 },
 "nbformat": 4,
 "nbformat_minor": 5
}
