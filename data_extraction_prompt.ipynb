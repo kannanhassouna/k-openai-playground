{
 "cells": [
  {
   "cell_type": "code",
   "execution_count": 1,
   "id": "8f914f61-956c-4f12-a81f-2f9da3a0b5b3",
   "metadata": {},
   "outputs": [],
   "source": [
    "from openai import OpenAI"
   ]
  },
  {
   "cell_type": "code",
   "execution_count": 2,
   "id": "4956150e-419e-4ad2-8f57-c43a6cb38afb",
   "metadata": {},
   "outputs": [],
   "source": [
    "from dotenv import load_dotenv"
   ]
  },
  {
   "cell_type": "code",
   "execution_count": 3,
   "id": "f18c3a1f-3d22-4fe5-9ae2-25fb6fd29ff8",
   "metadata": {},
   "outputs": [],
   "source": [
    "import os"
   ]
  },
  {
   "cell_type": "code",
   "execution_count": null,
   "id": "290b0a98-9fb8-4544-8bcd-c51079ca7bcd",
   "metadata": {},
   "outputs": [],
   "source": []
  },
  {
   "cell_type": "code",
   "execution_count": 4,
   "id": "3d9450a0-4f77-4ec5-acc4-2d554f952053",
   "metadata": {},
   "outputs": [
    {
     "data": {
      "text/plain": [
       "True"
      ]
     },
     "execution_count": 4,
     "metadata": {},
     "output_type": "execute_result"
    }
   ],
   "source": [
    "load_dotenv()"
   ]
  },
  {
   "cell_type": "code",
   "execution_count": null,
   "id": "24b1120d-4596-4b14-8e82-8fcd3d84b2e8",
   "metadata": {},
   "outputs": [],
   "source": []
  },
  {
   "cell_type": "code",
   "execution_count": 6,
   "id": "f1f78077-6682-4b54-b6cf-73a5fef98567",
   "metadata": {},
   "outputs": [],
   "source": [
    "client = OpenAI(api_key=os.getenv('OPENAI_API_KEY'))"
   ]
  },
  {
   "cell_type": "code",
   "execution_count": null,
   "id": "7ba2473e-f330-4c42-bd9c-d441006fe7da",
   "metadata": {},
   "outputs": [],
   "source": []
  },
  {
   "cell_type": "code",
   "execution_count": 7,
   "id": "1155a78c-73bd-47f5-b485-82c9caa4332c",
   "metadata": {},
   "outputs": [],
   "source": [
    "review = \"\"\" As an American visiting Cologne for the first time, some of my work colleagues brought me here for dinner after walking around town and visiting the cathedral. First, the wait staff was very friendly and provided a menu in English. Second, the beer is very good and just keeps coming so long as you are willing to keep drinking. Third, the food was incredible. I ordered the schnitzel with mushroom gravy and fried potatoes instead of fries. I was full half way through because of the generous portion, but ate it all anyways because it was so delicious. The atmosphere and the building itself was also five star and provided what I felt (take that for what you will as an American visiting Germany for the first time) was a very authentic German experience. They also have outdoor seating in a lovely town square if the weather is good. 10/10 would for sure recommend, and I hope to get back here again someday. \"\"\"\n"
   ]
  },
  {
   "cell_type": "code",
   "execution_count": 8,
   "id": "c720e741-342b-45b4-8163-598429eb958c",
   "metadata": {},
   "outputs": [],
   "source": [
    "res = client.chat.completions.create(model=\"gpt-4o-mini\", messages=[{\"role\": \"user\", \"content\": f\"extract the foods and beverages from the input\\n desired output: json array \\ninput:{review}\\noutput=\"}])"
   ]
  },
  {
   "cell_type": "code",
   "execution_count": 9,
   "id": "a0f74262-d96f-4f55-a13b-a6f2231ca203",
   "metadata": {},
   "outputs": [
    {
     "name": "stdout",
     "output_type": "stream",
     "text": [
      "```json\n",
      "[\n",
      "    \"beer\",\n",
      "    \"schnitzel\",\n",
      "    \"mushroom gravy\",\n",
      "    \"fried potatoes\"\n",
      "]\n",
      "```\n"
     ]
    }
   ],
   "source": [
    "print(res.choices[0].message.content)"
   ]
  },
  {
   "cell_type": "code",
   "execution_count": 10,
   "id": "bc38d356-e37c-4eda-8ed7-2dadbef4bb33",
   "metadata": {},
   "outputs": [],
   "source": [
    "review = \"\"\" Perfect Street style Indian food..!!\n",
    "Must give it a try. The man in the shop is friendly, and nice. I have tried samosa chat and Paneer Frankie, they are good and specially I liked the samosa chat..!!\n",
    "Many options for vegetarians. Not so near to public transport. \"\"\""
   ]
  },
  {
   "cell_type": "code",
   "execution_count": null,
   "id": "bb7cb6f7-f0b8-40f0-a419-b668a9e34832",
   "metadata": {},
   "outputs": [],
   "source": [
    "res = client.chat.completions.create(model=\"gpt-4o-mini\", messages=[{\"role\": \"user\", \"content\": f\"extract food and beverages from the input\\ndesired output: json object where key is name of food and value a description of it\\ninput:{review}\\noutput:\"}])"
   ]
  }
 ],
 "metadata": {
  "kernelspec": {
   "display_name": "Python 3 (ipykernel)",
   "language": "python",
   "name": "python3"
  },
  "language_info": {
   "codemirror_mode": {
    "name": "ipython",
    "version": 3
   },
   "file_extension": ".py",
   "mimetype": "text/x-python",
   "name": "python",
   "nbconvert_exporter": "python",
   "pygments_lexer": "ipython3",
   "version": "3.11.3"
  }
 },
 "nbformat": 4,
 "nbformat_minor": 5
}
