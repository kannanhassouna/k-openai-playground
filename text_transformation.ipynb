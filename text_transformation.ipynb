{
 "cells": [
  {
   "cell_type": "code",
   "execution_count": 1,
   "id": "2361a6dc-b159-4911-8df7-3d49f5dd7ac2",
   "metadata": {},
   "outputs": [],
   "source": [
    "# zero-shots is when we give the model zero examples about how the result will be and let the model expect the output format by itself.\n",
    "# few-shots is when we give the model some examples to clarify how the output should look like."
   ]
  },
  {
   "cell_type": "code",
   "execution_count": 3,
   "id": "417ad0be-daa2-450b-a93d-09f8953c979f",
   "metadata": {},
   "outputs": [],
   "source": [
    "from openai import OpenAI"
   ]
  },
  {
   "cell_type": "code",
   "execution_count": 4,
   "id": "706a264a-7c83-484e-90e3-a563960f9968",
   "metadata": {},
   "outputs": [],
   "source": [
    "from dotenv import load_dotenv"
   ]
  },
  {
   "cell_type": "code",
   "execution_count": 5,
   "id": "eba8244d-95a0-425a-8d29-3c4d632f0312",
   "metadata": {},
   "outputs": [],
   "source": [
    "import os"
   ]
  },
  {
   "cell_type": "code",
   "execution_count": null,
   "id": "ef18df4d-4671-4295-ad2c-e77963c49998",
   "metadata": {},
   "outputs": [],
   "source": []
  },
  {
   "cell_type": "code",
   "execution_count": 6,
   "id": "5600570b-9c02-4277-b6f8-8c75142b9bda",
   "metadata": {},
   "outputs": [
    {
     "data": {
      "text/plain": [
       "True"
      ]
     },
     "execution_count": 6,
     "metadata": {},
     "output_type": "execute_result"
    }
   ],
   "source": [
    "load_dotenv()"
   ]
  },
  {
   "cell_type": "code",
   "execution_count": null,
   "id": "23141dfe-8488-4d58-91c8-475ff5f8f64a",
   "metadata": {},
   "outputs": [],
   "source": []
  },
  {
   "cell_type": "code",
   "execution_count": 7,
   "id": "de1c2128-4059-4a2f-bc7f-453798cc5bc5",
   "metadata": {},
   "outputs": [],
   "source": [
    "client = OpenAI(api_key=os.getenv(\"OPENAI_API_KEY\"))"
   ]
  },
  {
   "cell_type": "code",
   "execution_count": null,
   "id": "592f4297-3c44-44c1-bed0-06909cda8487",
   "metadata": {},
   "outputs": [],
   "source": []
  },
  {
   "cell_type": "code",
   "execution_count": 12,
   "id": "f853c5c2-35ef-4b02-b981-9d62c0c88b71",
   "metadata": {},
   "outputs": [],
   "source": [
    "prompt=\"\"\" translate the text to Arabic, Dutch, French\n",
    "\n",
    "the output should be json object \n",
    "\n",
    "text: my favorite color is red orange\n",
    "\n",
    "\"\"\"\n"
   ]
  },
  {
   "cell_type": "code",
   "execution_count": null,
   "id": "e5f3d408-7d8d-4c8a-9e89-73f13d29cd1a",
   "metadata": {},
   "outputs": [],
   "source": []
  },
  {
   "cell_type": "code",
   "execution_count": 13,
   "id": "29211003-a3fa-4ec0-8dc7-076ca83fdb33",
   "metadata": {},
   "outputs": [],
   "source": [
    "res = client.chat.completions.create(model=\"gpt-4o-mini\", messages=[{\"role\": \"user\", \"content\": prompt}])"
   ]
  },
  {
   "cell_type": "code",
   "execution_count": 14,
   "id": "f3ccc513-c3c5-4b24-a114-102e790a2c11",
   "metadata": {},
   "outputs": [
    {
     "name": "stdout",
     "output_type": "stream",
     "text": [
      "```json\n",
      "{\n",
      "  \"Arabic\": \"لوني المفضل هو البرتقالي الأحمر\",\n",
      "  \"Dutch\": \"Mijn favoriete kleur is rood-oranje\",\n",
      "  \"French\": \"Ma couleur préférée est rouge orange\"\n",
      "}\n",
      "```\n"
     ]
    }
   ],
   "source": [
    "print(res.choices[0].message.content)"
   ]
  },
  {
   "cell_type": "code",
   "execution_count": null,
   "id": "64ab6a8a-b77a-4fe4-bcd4-8eb78fa2170f",
   "metadata": {},
   "outputs": [],
   "source": [
    "prompt= \"\"\" \n",
    "Transform the text to 3rd person \n",
    "\n",
    "text: \n",
    "\n",
    "\n",
    "\"\"\""
   ]
  }
 ],
 "metadata": {
  "kernelspec": {
   "display_name": "Python 3 (ipykernel)",
   "language": "python",
   "name": "python3"
  },
  "language_info": {
   "codemirror_mode": {
    "name": "ipython",
    "version": 3
   },
   "file_extension": ".py",
   "mimetype": "text/x-python",
   "name": "python",
   "nbconvert_exporter": "python",
   "pygments_lexer": "ipython3",
   "version": "3.11.3"
  }
 },
 "nbformat": 4,
 "nbformat_minor": 5
}
