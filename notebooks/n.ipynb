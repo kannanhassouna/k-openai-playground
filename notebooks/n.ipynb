{
 "cells": [
  {
   "cell_type": "code",
   "execution_count": 1,
   "id": "98d2e02a-9738-450d-b407-c61ce8a54834",
   "metadata": {},
   "outputs": [],
   "source": [
    "from openai import OpenAI"
   ]
  },
  {
   "cell_type": "code",
   "execution_count": 2,
   "id": "f9a46c63-09ba-4d6d-bbce-d4098be99860",
   "metadata": {},
   "outputs": [],
   "source": [
    "from dotenv import load_dotenv"
   ]
  },
  {
   "cell_type": "code",
   "execution_count": 3,
   "id": "7b47925d-388e-446c-88de-073d427bbbfb",
   "metadata": {},
   "outputs": [],
   "source": [
    "import os"
   ]
  },
  {
   "cell_type": "code",
   "execution_count": 5,
   "id": "106012a6-0a75-43ef-b939-81809b261e05",
   "metadata": {},
   "outputs": [
    {
     "data": {
      "text/plain": [
       "True"
      ]
     },
     "execution_count": 5,
     "metadata": {},
     "output_type": "execute_result"
    }
   ],
   "source": [
    "load_dotenv()"
   ]
  },
  {
   "cell_type": "code",
   "execution_count": null,
   "id": "9bda3f8e-2125-4eb1-ade6-82659145a57d",
   "metadata": {},
   "outputs": [],
   "source": []
  },
  {
   "cell_type": "code",
   "execution_count": 6,
   "id": "82a1f1ff-9c0a-4db3-970d-04f23bfbd406",
   "metadata": {},
   "outputs": [],
   "source": [
    "client = OpenAI(api_key=os.getenv(\"OPENAI_API_KEY\"))"
   ]
  },
  {
   "cell_type": "code",
   "execution_count": null,
   "id": "76819ce9-899e-4d60-87f2-45627023d623",
   "metadata": {},
   "outputs": [],
   "source": []
  },
  {
   "cell_type": "code",
   "execution_count": null,
   "id": "97ff7b4c-23a2-4919-89bc-d2c22c20a8c4",
   "metadata": {},
   "outputs": [],
   "source": [
    "# n is a way to determine the number of completions (choices) the model has to response. \n",
    "# so for example, if I asked for a joke and n was 2, the model will return two choices to pick from. "
   ]
  },
  {
   "cell_type": "code",
   "execution_count": 11,
   "id": "1612081d-b38f-4277-9b26-9ce7fadd344b",
   "metadata": {},
   "outputs": [],
   "source": [
    "res = client.chat.completions.create(model=\"gpt-4o-mini\", messages=[{\"role\": \"user\", \"content\": \"tell me a single joke:\"}], n=2)"
   ]
  },
  {
   "cell_type": "code",
   "execution_count": 13,
   "id": "0f3a10b7-ea62-4003-9cae-82a93d257a21",
   "metadata": {},
   "outputs": [
    {
     "name": "stdout",
     "output_type": "stream",
     "text": [
      "ChatCompletion(id='chatcmpl-AhGP55JZghqXxCUQuP53RyJcMPhxd', choices=[Choice(finish_reason='stop', index=0, message=ChatCompletionMessage(content='Why did the scarecrow win an award? \\n\\nBecause he was outstanding in his field!', role='assistant', function_call=None, refusal=None), logprobs=None), Choice(finish_reason='stop', index=1, message=ChatCompletionMessage(content='Why did the scarecrow win an award? Because he was outstanding in his field!', role='assistant', function_call=None, refusal=None), logprobs=None)], created=1734874523, model='gpt-4o-mini-2024-07-18', object='chat.completion', usage=CompletionUsage(completion_tokens=37, prompt_tokens=13, total_tokens=50, prompt_tokens_details={'cached_tokens': 0, 'audio_tokens': 0}, completion_tokens_details={'reasoning_tokens': 0, 'audio_tokens': 0, 'accepted_prediction_tokens': 0, 'rejected_prediction_tokens': 0}), system_fingerprint='fp_0aa8d3e20b')\n"
     ]
    }
   ],
   "source": [
    "print(res)"
   ]
  },
  {
   "cell_type": "code",
   "execution_count": 14,
   "id": "6ac4491e-52fc-4903-8d10-6c633090e4ae",
   "metadata": {},
   "outputs": [
    {
     "name": "stdout",
     "output_type": "stream",
     "text": [
      "2\n"
     ]
    }
   ],
   "source": [
    "print(len(res.choices))"
   ]
  }
 ],
 "metadata": {
  "kernelspec": {
   "display_name": "Python 3 (ipykernel)",
   "language": "python",
   "name": "python3"
  },
  "language_info": {
   "codemirror_mode": {
    "name": "ipython",
    "version": 3
   },
   "file_extension": ".py",
   "mimetype": "text/x-python",
   "name": "python",
   "nbconvert_exporter": "python",
   "pygments_lexer": "ipython3",
   "version": "3.11.3"
  }
 },
 "nbformat": 4,
 "nbformat_minor": 5
}
