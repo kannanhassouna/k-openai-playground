{
 "cells": [
  {
   "cell_type": "code",
   "execution_count": 23,
   "id": "cc11f2d0-8611-4fe5-8851-98ed27f63b15",
   "metadata": {},
   "outputs": [],
   "source": [
    "from openai import OpenAI"
   ]
  },
  {
   "cell_type": "code",
   "execution_count": 24,
   "id": "b08a7cbc-5a47-424a-8b0a-13d75ed29367",
   "metadata": {},
   "outputs": [],
   "source": [
    "from dotenv import load_dotenv"
   ]
  },
  {
   "cell_type": "code",
   "execution_count": 25,
   "id": "56d2dc47-1d86-457d-b280-34ccc2a411e8",
   "metadata": {},
   "outputs": [],
   "source": [
    "import os"
   ]
  },
  {
   "cell_type": "code",
   "execution_count": 26,
   "id": "e62d37b1-835e-4934-b7fc-ded9c7eec188",
   "metadata": {},
   "outputs": [],
   "source": [
    "import json"
   ]
  },
  {
   "cell_type": "code",
   "execution_count": 27,
   "id": "d7933534-fbff-4748-a846-ee14d03375bc",
   "metadata": {},
   "outputs": [
    {
     "data": {
      "text/plain": [
       "True"
      ]
     },
     "execution_count": 27,
     "metadata": {},
     "output_type": "execute_result"
    }
   ],
   "source": [
    "load_dotenv()"
   ]
  },
  {
   "cell_type": "code",
   "execution_count": 28,
   "id": "5af38cbc-1a60-4f4d-9d87-aef470847bdf",
   "metadata": {},
   "outputs": [],
   "source": [
    "client = OpenAI(api_key=os.getenv('OPENAI_API_KEY'))"
   ]
  },
  {
   "cell_type": "code",
   "execution_count": 29,
   "id": "049b3738-b4e8-4d46-bcd1-92a404f7afb1",
   "metadata": {},
   "outputs": [],
   "source": [
    "res = client.chat.completions.create(\n",
    "    messages=[\n",
    "        {\n",
    "            \"role\": \"user\",\n",
    "            \"content\": \"How are you doing?\",\n",
    "        }\n",
    "    ],\n",
    "    model=\"gpt-4o-mini\",\n",
    ")"
   ]
  },
  {
   "cell_type": "code",
   "execution_count": 30,
   "id": "aed1192f-45de-4422-a3e0-d6b26609aa90",
   "metadata": {},
   "outputs": [
    {
     "data": {
      "text/plain": [
       "[Choice(finish_reason='stop', index=0, message=ChatCompletionMessage(content='I’m just a computer program, so I don’t have feelings, but I’m here and ready to help you! How can I assist you today?', role='assistant', function_call=None, refusal=None), logprobs=None)]"
      ]
     },
     "execution_count": 30,
     "metadata": {},
     "output_type": "execute_result"
    }
   ],
   "source": [
    "res.choices"
   ]
  },
  {
   "cell_type": "code",
   "execution_count": 31,
   "id": "8dbbb614-e485-45d7-8920-8e9915945d7b",
   "metadata": {},
   "outputs": [
    {
     "data": {
      "text/plain": [
       "'I’m just a computer program, so I don’t have feelings, but I’m here and ready to help you! How can I assist you today?'"
      ]
     },
     "execution_count": 31,
     "metadata": {},
     "output_type": "execute_result"
    }
   ],
   "source": [
    "res.choices[0].message.content"
   ]
  },
  {
   "cell_type": "code",
   "execution_count": null,
   "id": "cd8720e7-7730-4ebc-ba9b-d50360d02a1e",
   "metadata": {},
   "outputs": [],
   "source": []
  }
 ],
 "metadata": {
  "kernelspec": {
   "display_name": "Python 3 (ipykernel)",
   "language": "python",
   "name": "python3"
  },
  "language_info": {
   "codemirror_mode": {
    "name": "ipython",
    "version": 3
   },
   "file_extension": ".py",
   "mimetype": "text/x-python",
   "name": "python",
   "nbconvert_exporter": "python",
   "pygments_lexer": "ipython3",
   "version": "3.11.3"
  }
 },
 "nbformat": 4,
 "nbformat_minor": 5
}
