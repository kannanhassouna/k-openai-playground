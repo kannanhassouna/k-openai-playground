{
 "cells": [
  {
   "cell_type": "code",
   "execution_count": 1,
   "id": "2361a6dc-b159-4911-8df7-3d49f5dd7ac2",
   "metadata": {},
   "outputs": [],
   "source": [
    "# zero-shots is when we give the model zero examples about how the result will be and let the model expect the output format by itself.\n",
    "# few-shots is when we give the model some examples to clarify how the output should look like."
   ]
  },
  {
   "cell_type": "code",
   "execution_count": 2,
   "id": "417ad0be-daa2-450b-a93d-09f8953c979f",
   "metadata": {},
   "outputs": [],
   "source": [
    "from openai import OpenAI"
   ]
  },
  {
   "cell_type": "code",
   "execution_count": 3,
   "id": "706a264a-7c83-484e-90e3-a563960f9968",
   "metadata": {},
   "outputs": [],
   "source": [
    "from dotenv import load_dotenv"
   ]
  },
  {
   "cell_type": "code",
   "execution_count": 4,
   "id": "eba8244d-95a0-425a-8d29-3c4d632f0312",
   "metadata": {},
   "outputs": [],
   "source": [
    "import os"
   ]
  },
  {
   "cell_type": "code",
   "execution_count": null,
   "id": "ef18df4d-4671-4295-ad2c-e77963c49998",
   "metadata": {},
   "outputs": [],
   "source": []
  },
  {
   "cell_type": "code",
   "execution_count": 5,
   "id": "5600570b-9c02-4277-b6f8-8c75142b9bda",
   "metadata": {},
   "outputs": [
    {
     "data": {
      "text/plain": [
       "True"
      ]
     },
     "execution_count": 5,
     "metadata": {},
     "output_type": "execute_result"
    }
   ],
   "source": [
    "load_dotenv()"
   ]
  },
  {
   "cell_type": "code",
   "execution_count": null,
   "id": "23141dfe-8488-4d58-91c8-475ff5f8f64a",
   "metadata": {},
   "outputs": [],
   "source": []
  },
  {
   "cell_type": "code",
   "execution_count": 6,
   "id": "de1c2128-4059-4a2f-bc7f-453798cc5bc5",
   "metadata": {},
   "outputs": [],
   "source": [
    "client = OpenAI(api_key=os.getenv(\"OPENAI_API_KEY\"))"
   ]
  },
  {
   "cell_type": "code",
   "execution_count": null,
   "id": "09bbc2db-429a-4e7d-b1ac-164f6679209b",
   "metadata": {},
   "outputs": [],
   "source": []
  },
  {
   "cell_type": "code",
   "execution_count": null,
   "id": "4fb1ce17-6fba-4f9e-9fcb-a7a94d0f307a",
   "metadata": {},
   "outputs": [],
   "source": [
    "# zero-shot example"
   ]
  },
  {
   "cell_type": "code",
   "execution_count": 7,
   "id": "f853c5c2-35ef-4b02-b981-9d62c0c88b71",
   "metadata": {},
   "outputs": [],
   "source": [
    "prompt=\"\"\" extract the animals names from the input \n",
    "\n",
    "desired output: json array\n",
    "\n",
    "input: Animals are multicellular, eukaryotic organisms in the biological kingdom Animalia (/ˌænɪˈmeɪliə/[4]). With few exceptions, animals consume organic material, breathe oxygen, have myocytes and are able to move, can reproduce sexually, and grow from a hollow sphere of cells, the blastula, during embryonic development. Animals form a clade, meaning that they arose from a single common ancestor. Over 1.5 million living animal species have been described, of which around 1.05 million are insects, over 85,000 are molluscs, and around 65,000 are vertebrates. It has been estimated there are as many as 7.77 million animal species on Earth. Animal body lengths range from 8.5 μm (0.00033 in) to 33.6 m (110 ft). They have complex ecologies and interactions with each other and their environments, forming intricate food webs. The scientific study of animals is known as zoology, and the study of animal behaviour is known as ethology.\n",
    "\n",
    "The animal kingdom is divided into five infrakingdoms/superphyla, namely Porifera, Ctenophora, Placozoa, Cnidaria and Bilateria. Most living animal species belong to the infrakingdom Bilateria, a highly proliferative clade whose members have a bilaterally symmetric and significantly cephalised body plan, and the vast majority of bilaterians belong to two large superphyla: the protostomes, which includes organisms such as arthropods, molluscs, flatworms, annelids and nematodes; and the deuterostomes, which include echinoderms, hemichordates and chordates, the latter of which contains the vertebrates. The much smaller basal phylum Xenacoelomorpha have an uncertain position within Bilateria.\n",
    "\n",
    "Animals first appear in the fossil record in the late Cryogenian period and diversified in the subsequent Ediacaran period in what is known as the Avalon explosion. Earlier evidence of animals is still controversial; the sponge-like organism Otavia has been dated back to the Tonian period at the start of the Neoproterozoic, but its identity as an animal is heavily contested.[5] Nearly all modern animal phyla became clearly established in the fossil record as marine species during the Cambrian explosion, which began around 539 million years ago (Mya), and most classes during the Ordovician radiation 485.4 Mya. 6,331 groups of genes common to all living animals have been identified; these may have arisen from a single common ancestor that lived about 650 Mya during the Cryogenian period.\n",
    "\n",
    "Historically, Aristotle divided animals into those with blood and those without. Carl Linnaeus created the first hierarchical biological classification for animals in 1758 with his Systema Naturae, which Jean-Baptiste Lamarck expanded into 14 phyla by 1809. In 1874, Ernst Haeckel divided the animal kingdom into the multicellular Metazoa (now synonymous with Animalia) and the Protozoa, single-celled organisms no longer considered animals. In modern times, the biological classification of animals relies on advanced techniques, such as molecular phylogenetics, which are effective at demonstrating the evolutionary relationships between taxa.\n",
    "\n",
    "Humans make use of many other animal species for food (including meat, eggs, and dairy products), for materials (such as leather, fur, and wool), as pets and as working animals for transportation, and services. Dogs, the first domesticated animal, have been used in hunting, in security and in warfare, as have horses, pigeons and birds of prey; while other terrestrial and aquatic animals are hunted for sports, trophies or profits. Non-human animals are also an important cultural element of human evolution, having appeared in cave arts and totems since the earliest times, and are frequently featured in mythology, religion, arts, literature, heraldry, politics, and sports.\n",
    "\n",
    "animals=\n",
    "\n",
    "\"\"\""
   ]
  },
  {
   "cell_type": "code",
   "execution_count": null,
   "id": "e5f3d408-7d8d-4c8a-9e89-73f13d29cd1a",
   "metadata": {},
   "outputs": [],
   "source": []
  },
  {
   "cell_type": "code",
   "execution_count": 8,
   "id": "29211003-a3fa-4ec0-8dc7-076ca83fdb33",
   "metadata": {},
   "outputs": [],
   "source": [
    "res = client.chat.completions.create(model=\"gpt-4o-mini\", messages=[{\"role\": \"user\", \"content\": prompt}])"
   ]
  },
  {
   "cell_type": "code",
   "execution_count": 9,
   "id": "f3ccc513-c3c5-4b24-a114-102e790a2c11",
   "metadata": {},
   "outputs": [
    {
     "name": "stdout",
     "output_type": "stream",
     "text": [
      "```json\n",
      "[\n",
      "    \"insects\",\n",
      "    \"molluscs\",\n",
      "    \"vertebrates\",\n",
      "    \"arthropods\",\n",
      "    \"flatworms\",\n",
      "    \"annelids\",\n",
      "    \"nematodes\",\n",
      "    \"echinoderms\",\n",
      "    \"hemichordates\",\n",
      "    \"chordates\",\n",
      "    \"sponge-like organism\",\n",
      "    \"Humans\",\n",
      "    \"Dogs\",\n",
      "    \"horses\",\n",
      "    \"pigeons\",\n",
      "    \"birds of prey\"\n",
      "]\n",
      "```\n"
     ]
    }
   ],
   "source": [
    "print(res.choices[0].message.content)"
   ]
  },
  {
   "cell_type": "code",
   "execution_count": null,
   "id": "dc9552d8-612f-4a70-ae1f-db917c3aba59",
   "metadata": {},
   "outputs": [],
   "source": [
    "# as you can see here the output was markdown of json array while i have asked it to be an json array, so to clairfy the output we can give the model some examples "
   ]
  },
  {
   "cell_type": "code",
   "execution_count": 20,
   "id": "9bc069c2-0d6d-49eb-b7d6-e83fb2350125",
   "metadata": {},
   "outputs": [],
   "source": [
    "prompt = \"\"\"\n",
    "\n",
    " extract the animals names from the input \n",
    "\n",
    "desired output: json array\n",
    "\n",
    "\n",
    "Animals are multicellular, eukaryotic organisms in the biological kingdom Animalia (/ˌænɪˈmeɪliə/[4]). With few exceptions, animals consume organic material, breathe oxygen, have myocytes and are able to move, can reproduce sexually, and grow from a hollow sphere of cells, the blastula, during embryonic development. Animals form a clade, meaning that they arose from a single common ancestor. Over 1.5 million living animal species have been described, of which around 1.05 million are insects, over 85,000 are molluscs, and around 65,000 are vertebrates. It has been estimated there are as many as 7.77 million animal species on Earth. Animal body lengths range from 8.5 μm (0.00033 in) to 33.6 m (110 ft). They have complex ecologies and interactions with each other and their environments, forming intricate food webs. The scientific study of animals is known as zoology, and the study of animal behaviour is known as ethology.\n",
    "\n",
    "The animal kingdom is divided into five infrakingdoms/superphyla, namely Porifera, Ctenophora, Placozoa, Cnidaria and Bilateria. Most living animal species belong to the infrakingdom Bilateria, a highly proliferative clade whose members have a bilaterally symmetric and significantly cephalised body plan, and the vast majority of bilaterians belong to two large superphyla: the protostomes, which includes organisms such as arthropods, molluscs, flatworms, annelids and nematodes; and the deuterostomes, which include echinoderms, hemichordates and chordates, the latter of which contains the vertebrates. The much smaller basal phylum Xenacoelomorpha have an uncertain position within Bilateria.\n",
    "\n",
    "Animals first appear in the fossil record in the late Cryogenian period and diversified in the subsequent Ediacaran period in what is known as the Avalon explosion. Earlier evidence of animals is still controversial; the sponge-like organism Otavia has been dated back to the Tonian period at the start of the Neoproterozoic, but its identity as an animal is heavily contested.[5] Nearly all modern animal phyla became clearly established in the fossil record as marine species during the Cambrian explosion, which began around 539 million years ago (Mya), and most classes during the Ordovician radiation 485.4 Mya. 6,331 groups of genes common to all living animals have been identified; these may have arisen from a single common ancestor that lived about 650 Mya during the Cryogenian period.\n",
    "\n",
    "Historically, Aristotle divided animals into those with blood and those without. Carl Linnaeus created the first hierarchical biological classification for animals in 1758 with his Systema Naturae, which Jean-Baptiste Lamarck expanded into 14 phyla by 1809. In 1874, Ernst Haeckel divided the animal kingdom into the multicellular Metazoa (now synonymous with Animalia) and the Protozoa, single-celled organisms no longer considered animals. In modern times, the biological classification of animals relies on advanced techniques, such as molecular phylogenetics, which are effective at demonstrating the evolutionary relationships between taxa.\n",
    "\n",
    "Humans make use of many other animal species for food (including meat, eggs, and dairy products), for materials (such as leather, fur, and wool), as pets and as working animals for transportation, and services. Dogs, the first domesticated animal, have been used in hunting, in security and in warfare, as have horses, pigeons and birds of prey; while other terrestrial and aquatic animals are hunted for sports, trophies or profits. Non-human animals are also an important cultural element of human evolution, having appeared in cave arts and totems since the earliest times, and are frequently featured in mythology, religion, arts, literature, heraldry, politics, and sports.\n",
    "\n",
    "animals= [\n",
    "    \"insects\",\n",
    "    \"molluscs\",\n",
    "    \"vertebrates\",\n",
    "    \"arthropods\",\n",
    "    \"flatworms\",\n",
    "    \"annelids\",\n",
    "    \"nematodes\",\n",
    "    \"echinoderms\",\n",
    "    \"hemichordates\",\n",
    "    \"chordates\",\n",
    "    \"sponge-like organism\",\n",
    "    \"Humans\",\n",
    "    \"Dogs\",\n",
    "    \"horses\",\n",
    "    \"pigeons\",\n",
    "    \"birds of prey\"\n",
    "]\n",
    "\n",
    "\n",
    "\n",
    "input: Some people like to go big or go home by adopting large dog breeds, while some prefer pint-sized pups and go for a small dog breed — but if you ask us and Goldilocks, the perfect pet is right in the middle. These medium-sized dog breeds are as cuddly as their smaller counterparts and often just as playful as larger dogs, in a more manageable package.\n",
    "\n",
    "Generally, dogs in this category weigh in at about 30–70 pounds, although some can certainly grow bigger or stay smaller than that. While they may have size in common, there's lots to choose from within the category. These breeds totally vary in activity level, trainability, coat type and temperament. Looking for low-shedding dog that won't set off your allergies? Check out the standard poodle. Need a running buddy that can go and go for miles? A German Shorthaired Pointer or Dalmatian might be just your speed. Or do you need a mold-mannered soul that'll play nice with the kids? Labrador Retrievers live up to their number-one reputation as the perfect family dogs.\n",
    "\n",
    "This list includes members from almost all of the breed groups (including sporting, non-sporting, working, hounds and terriers) minus the tiny toy breeds. We've included some of the most popular options (we see you, Golden Retrievers) but also some deep cuts you may not know, like Boykin Spaniels and Pyrenean Shepherds. Before you bring home any dog, do your homework on the cost and commitments associated with owning a pet. Always adopt animals from reputable sources, like respected animal shelters or breeders.\n",
    "output=\n",
    "\"\"\""
   ]
  },
  {
   "cell_type": "code",
   "execution_count": 21,
   "id": "117539b2-dda5-4eec-b30a-bc9a09114976",
   "metadata": {},
   "outputs": [],
   "source": [
    "res=client.chat.completions.create(model=\"gpt-4o-mini\", messages=[{\"role\": \"user\", \"content\": prompt}])"
   ]
  },
  {
   "cell_type": "code",
   "execution_count": 22,
   "id": "a76901d6-619e-4063-b806-dc883c2e3a04",
   "metadata": {},
   "outputs": [
    {
     "name": "stdout",
     "output_type": "stream",
     "text": [
      "```json\n",
      "[\n",
      "    \"Dogs\",\n",
      "    \"German Shorthaired Pointer\",\n",
      "    \"Dalmatian\",\n",
      "    \"Labrador Retrievers\",\n",
      "    \"Golden Retrievers\",\n",
      "    \"Boykin Spaniels\",\n",
      "    \"Pyrenean Shepherds\"\n",
      "]\n",
      "```\n"
     ]
    }
   ],
   "source": [
    "print(res.choices[0].message.content)"
   ]
  }
 ],
 "metadata": {
  "kernelspec": {
   "display_name": "Python 3 (ipykernel)",
   "language": "python",
   "name": "python3"
  },
  "language_info": {
   "codemirror_mode": {
    "name": "ipython",
    "version": 3
   },
   "file_extension": ".py",
   "mimetype": "text/x-python",
   "name": "python",
   "nbconvert_exporter": "python",
   "pygments_lexer": "ipython3",
   "version": "3.11.3"
  }
 },
 "nbformat": 4,
 "nbformat_minor": 5
}
