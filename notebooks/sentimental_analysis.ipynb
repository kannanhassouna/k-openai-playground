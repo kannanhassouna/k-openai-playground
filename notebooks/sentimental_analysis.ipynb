{
 "cells": [
  {
   "cell_type": "code",
   "execution_count": 1,
   "id": "cdef97e3-b59a-4579-beaf-a12a25eb0d86",
   "metadata": {},
   "outputs": [],
   "source": [
    "from openai import OpenAI"
   ]
  },
  {
   "cell_type": "code",
   "execution_count": 2,
   "id": "074398c5-9d3a-4875-b50d-9467532a40e0",
   "metadata": {},
   "outputs": [],
   "source": [
    "from dotenv import load_dotenv"
   ]
  },
  {
   "cell_type": "code",
   "execution_count": 3,
   "id": "79244982-7b93-436d-931c-81bc72541411",
   "metadata": {},
   "outputs": [],
   "source": [
    "import os"
   ]
  },
  {
   "cell_type": "code",
   "execution_count": null,
   "id": "61afa1ed-23d6-42eb-b6b3-142aa0caad51",
   "metadata": {},
   "outputs": [],
   "source": []
  },
  {
   "cell_type": "code",
   "execution_count": null,
   "id": "41d238ed-9d92-430c-94c7-cc55671871db",
   "metadata": {},
   "outputs": [],
   "source": []
  },
  {
   "cell_type": "code",
   "execution_count": 4,
   "id": "e8bbe659-3abf-4b0b-a3ed-e704790bed33",
   "metadata": {},
   "outputs": [
    {
     "data": {
      "text/plain": [
       "True"
      ]
     },
     "execution_count": 4,
     "metadata": {},
     "output_type": "execute_result"
    }
   ],
   "source": [
    "load_dotenv()"
   ]
  },
  {
   "cell_type": "code",
   "execution_count": null,
   "id": "72965b84-4e0f-41ee-83d6-5d58cdf03fb6",
   "metadata": {},
   "outputs": [],
   "source": []
  },
  {
   "cell_type": "code",
   "execution_count": null,
   "id": "5957fbf5-d6e1-4dff-a2b9-9fdd20441d13",
   "metadata": {},
   "outputs": [],
   "source": []
  },
  {
   "cell_type": "code",
   "execution_count": 5,
   "id": "85cd5ad7-c83c-445b-b18d-d70bd05fb548",
   "metadata": {},
   "outputs": [],
   "source": [
    "client = OpenAI(api_key=os.getenv(\"OPENAI_API_KEY\"))"
   ]
  },
  {
   "cell_type": "code",
   "execution_count": null,
   "id": "c1994633-18a1-4da1-bdac-c452df1414e7",
   "metadata": {},
   "outputs": [],
   "source": []
  },
  {
   "cell_type": "code",
   "execution_count": null,
   "id": "4509ac79-1b3c-4af6-878a-7cfc4ad31bd4",
   "metadata": {},
   "outputs": [],
   "source": [
    "# postive review"
   ]
  },
  {
   "cell_type": "code",
   "execution_count": 6,
   "id": "e7663144-4274-46a9-8342-4f6945013e6d",
   "metadata": {},
   "outputs": [],
   "source": [
    "review = \"\"\" Perfect Street style Indian food..!!\n",
    "Must give it a try. The man in the shop is friendly, and nice. I have tried samosa chat and Paneer Frankie, they are good and specially I liked the samosa chat..!!\n",
    "Many options for vegetarians. Not so near to public transport. \"\"\""
   ]
  },
  {
   "cell_type": "code",
   "execution_count": 8,
   "id": "33672d67-d3c6-4f98-9903-3e7ff44f052f",
   "metadata": {},
   "outputs": [],
   "source": [
    "res = client.chat.completions.create(model=\"gpt-4o-mini\", messages=[{\"role\": \"user\", \"content\": f\"describe the sentiments of the input in one word as Postive, Netural, or Negative\\ninput:{review}\"}])"
   ]
  },
  {
   "cell_type": "code",
   "execution_count": 9,
   "id": "32f074ea-dccd-416c-a274-cbcd8bf820e0",
   "metadata": {},
   "outputs": [
    {
     "name": "stdout",
     "output_type": "stream",
     "text": [
      "Positive\n"
     ]
    }
   ],
   "source": [
    "print(res.choices[0].message.content)"
   ]
  },
  {
   "cell_type": "code",
   "execution_count": null,
   "id": "28c6ae0e-f361-47dc-958a-ce266bfc9d21",
   "metadata": {},
   "outputs": [],
   "source": []
  },
  {
   "cell_type": "code",
   "execution_count": null,
   "id": "8de46a3e-c159-4c64-ab6c-2d9541bb1607",
   "metadata": {},
   "outputs": [],
   "source": [
    "# negative review"
   ]
  },
  {
   "cell_type": "code",
   "execution_count": 10,
   "id": "b266bd4a-2ae5-4f6a-b1db-b4a39619e48a",
   "metadata": {},
   "outputs": [],
   "source": [
    "review = \"\"\" Definitely overrated in my opinion.\n",
    "Starters tasteless, dry and far too little chutney. 1/2 tsp for 6 pakora. And it's very mild too.\n",
    "\n",
    "Main courses small portions. Slow service. Not enough spices.\n",
    "Food: 3\n",
    "Service: 3\n",
    "Atmosphere: 2 \"\"\""
   ]
  },
  {
   "cell_type": "code",
   "execution_count": 11,
   "id": "11b584cd-c075-4a98-a3cf-837747892927",
   "metadata": {},
   "outputs": [],
   "source": [
    "res = client.chat.completions.create(model=\"gpt-4o-mini\", messages= [{\"role\": \"user\", \"content\": f\"extract the sentiments from the input in one word as Positive, Netural, or Negative\\ninput:{review}\"}])"
   ]
  },
  {
   "cell_type": "code",
   "execution_count": 12,
   "id": "b5d61cf2-83e1-42cf-8b89-ecba79050921",
   "metadata": {},
   "outputs": [
    {
     "name": "stdout",
     "output_type": "stream",
     "text": [
      "Negative\n"
     ]
    }
   ],
   "source": [
    "print(res.choices[0].message.content)"
   ]
  }
 ],
 "metadata": {
  "kernelspec": {
   "display_name": "Python 3 (ipykernel)",
   "language": "python",
   "name": "python3"
  },
  "language_info": {
   "codemirror_mode": {
    "name": "ipython",
    "version": 3
   },
   "file_extension": ".py",
   "mimetype": "text/x-python",
   "name": "python",
   "nbconvert_exporter": "python",
   "pygments_lexer": "ipython3",
   "version": "3.11.3"
  }
 },
 "nbformat": 4,
 "nbformat_minor": 5
}
