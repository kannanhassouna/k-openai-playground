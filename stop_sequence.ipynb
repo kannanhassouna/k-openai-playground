{
 "cells": [
  {
   "cell_type": "code",
   "execution_count": 4,
   "id": "d9ac2781-1a8c-490c-86b9-c119759939a0",
   "metadata": {},
   "outputs": [],
   "source": [
    "from openai import OpenAI"
   ]
  },
  {
   "cell_type": "code",
   "execution_count": 5,
   "id": "dc469968-27e0-469d-ac4a-61bdb47e1458",
   "metadata": {},
   "outputs": [],
   "source": [
    "from dotenv import load_dotenv"
   ]
  },
  {
   "cell_type": "code",
   "execution_count": 6,
   "id": "a22ca022-6888-435f-82b5-b96bde3d5f62",
   "metadata": {},
   "outputs": [],
   "source": [
    "import os"
   ]
  },
  {
   "cell_type": "code",
   "execution_count": 10,
   "id": "36d20707-6391-479d-aba3-ba00775e83db",
   "metadata": {},
   "outputs": [
    {
     "data": {
      "text/plain": [
       "True"
      ]
     },
     "execution_count": 10,
     "metadata": {},
     "output_type": "execute_result"
    }
   ],
   "source": [
    "load_dotenv()"
   ]
  },
  {
   "cell_type": "code",
   "execution_count": 17,
   "id": "9554dfa1-4378-4651-ab03-0baf8a17b181",
   "metadata": {},
   "outputs": [],
   "source": [
    "client = OpenAI(api_key=os.getenv('OPENAI_API_KEY'))"
   ]
  },
  {
   "cell_type": "code",
   "execution_count": null,
   "id": "291c859b-f49b-48e5-992b-2b4522032b20",
   "metadata": {},
   "outputs": [],
   "source": [
    "# with stop parement we can tell the gpt model to stop generating at this point. \n",
    "# it could be a string or an array of strings. \n",
    "# fyi: gpt will not include the stop sequence in the output\n"
   ]
  },
  {
   "cell_type": "code",
   "execution_count": 62,
   "id": "072416ce-cded-46f8-9840-ab31fd6d4647",
   "metadata": {},
   "outputs": [],
   "source": [
    "res = client.chat.completions.create(model=\"gpt-4o-mini\", messages=[{\"role\": \"user\", \"content\": \"the best 10 movies of all time: \"}], stop= \"5.\")"
   ]
  },
  {
   "cell_type": "code",
   "execution_count": 64,
   "id": "4af994b5-58c9-4549-ba6b-8a55cadbda93",
   "metadata": {},
   "outputs": [],
   "source": [
    "# as you can see, even though I asked the model to list 10 movies, the output stoped on number 4, because I have passed stop_sequence parameter to let the model stop at 5."
   ]
  },
  {
   "cell_type": "code",
   "execution_count": 63,
   "id": "e79aec32-b119-4f7c-b5a8-f53e2dbc674a",
   "metadata": {},
   "outputs": [
    {
     "name": "stdout",
     "output_type": "stream",
     "text": [
      "Determining the \"best\" movies of all time can be quite subjective, as it often depends on personal taste, cultural impact, and various other factors. However, here is a list of ten films that are frequently cited as some of the greatest in cinematic history, based on critical acclaim, influence, and popularity:\n",
      "\n",
      "1. **Citizen Kane (1941)** - Directed by Orson Welles, this film is often regarded as the greatest film ever made, notable for its innovative storytelling and cinematography.\n",
      "\n",
      "2. **The Godfather (1972)** - Francis Ford Coppola's epic about a crime family is celebrated for its storytelling, character development, and cultural impact.\n",
      "\n",
      "3. **Casablanca (1942)** - This romantic drama set during World War II has become a classic, known for its memorable lines and enduring themes of love and sacrifice.\n",
      "\n",
      "4. **Schindler's List (1993)** - Steven Spielberg's powerful depiction of the Holocaust is both harrowing and inspiring, showcasing the impact one person can have.\n",
      "\n",
      "\n"
     ]
    }
   ],
   "source": [
    "print(res.choices[0].message.content)"
   ]
  },
  {
   "cell_type": "code",
   "execution_count": 30,
   "id": "dfd67b64-e563-437c-88e9-a6b8c1d35178",
   "metadata": {},
   "outputs": [],
   "source": [
    "# we can also build a chatbot with it and tells the gpt to allows stop when he trys to play the user role, like following"
   ]
  },
  {
   "cell_type": "code",
   "execution_count": 51,
   "id": "cb5f84fe-6a7d-476d-83bc-f8a960f76f03",
   "metadata": {},
   "outputs": [],
   "source": [
    "message = \"\"\"\n",
    "you are an evil and mean woman and I'm a child trying to talk to you, complete the conversation. \n",
    "User: do you have children? \n",
    "Evil Woman: \n",
    "\"\"\"\n"
   ]
  },
  {
   "cell_type": "code",
   "execution_count": 61,
   "id": "ecf1c032-3090-4975-baf7-21031c37b55a",
   "metadata": {},
   "outputs": [],
   "source": [
    "# as you can see here, we as the model to stop when it faces the word User."
   ]
  },
  {
   "cell_type": "code",
   "execution_count": 58,
   "id": "6ea0592e-2c9f-435c-96d7-78cd53fe729a",
   "metadata": {},
   "outputs": [],
   "source": [
    "res = client.chat.completions.create(model=\"gpt-4o-mini\", messages = [{\"role\": \"user\", \"content\": message}], stop=\"User\")"
   ]
  },
  {
   "cell_type": "code",
   "execution_count": 60,
   "id": "a8cec0f1-d413-4d19-a927-f25fc7cf6fb2",
   "metadata": {},
   "outputs": [
    {
     "name": "stdout",
     "output_type": "stream",
     "text": [
      "Evil Woman: \"Why would I waste my time with children? They're nothing but a hassle and a nuisance. What do you want, little one? Don’t you have someone else to bother?\"\n"
     ]
    }
   ],
   "source": [
    "print(res.choices[0].message.content)"
   ]
  },
  {
   "cell_type": "code",
   "execution_count": null,
   "id": "b83f4578-ef90-4c55-9f2b-015dcf6c0215",
   "metadata": {},
   "outputs": [],
   "source": []
  }
 ],
 "metadata": {
  "kernelspec": {
   "display_name": "Python 3 (ipykernel)",
   "language": "python",
   "name": "python3"
  },
  "language_info": {
   "codemirror_mode": {
    "name": "ipython",
    "version": 3
   },
   "file_extension": ".py",
   "mimetype": "text/x-python",
   "name": "python",
   "nbconvert_exporter": "python",
   "pygments_lexer": "ipython3",
   "version": "3.11.3"
  }
 },
 "nbformat": 4,
 "nbformat_minor": 5
}
