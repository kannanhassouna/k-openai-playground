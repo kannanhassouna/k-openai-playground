{
 "cells": [
  {
   "cell_type": "code",
   "execution_count": 2,
   "id": "84f32f69-61f3-4782-a3ae-ce3964267506",
   "metadata": {},
   "outputs": [],
   "source": [
    "# prompt engineering intro"
   ]
  },
  {
   "cell_type": "code",
   "execution_count": 4,
   "id": "327b7ee0-f8e2-47e4-82a3-4e376718801d",
   "metadata": {},
   "outputs": [],
   "source": [
    "# prompt engineering is to give the model a task to complete for you. (not only completion)\n",
    "# for example give me a list of all cities in json files. \n",
    "# but for building a good prompt you need three things:\n",
    "#  - Task (clear instructions how the model could do the task).\n",
    "#  - Input (if there is any).\n",
    "#  - Output format (otherwise the model will pick a format from his own choice). "
   ]
  },
  {
   "cell_type": "code",
   "execution_count": 5,
   "id": "80045d8b-cc16-4429-af98-31d7a71fcd97",
   "metadata": {},
   "outputs": [],
   "source": [
    "from openai import OpenAI "
   ]
  },
  {
   "cell_type": "code",
   "execution_count": 6,
   "id": "5b7ade0f-dbc1-4376-9851-0f1ea723d6ca",
   "metadata": {},
   "outputs": [],
   "source": [
    "from dotenv import load_dotenv"
   ]
  },
  {
   "cell_type": "code",
   "execution_count": 8,
   "id": "faaa9159-25d2-49e1-884f-00a211402497",
   "metadata": {},
   "outputs": [],
   "source": [
    "import os"
   ]
  },
  {
   "cell_type": "code",
   "execution_count": 10,
   "id": "6a6b834d-5d76-4d09-a712-7c8ec9d6d5ef",
   "metadata": {},
   "outputs": [
    {
     "data": {
      "text/plain": [
       "True"
      ]
     },
     "execution_count": 10,
     "metadata": {},
     "output_type": "execute_result"
    }
   ],
   "source": [
    "load_dotenv()"
   ]
  },
  {
   "cell_type": "code",
   "execution_count": 11,
   "id": "1949a356-6510-4c9f-9194-f0384f8928ad",
   "metadata": {},
   "outputs": [],
   "source": [
    "client = OpenAI(api_key=os.getenv('OPENAI_API_KEY'))"
   ]
  },
  {
   "cell_type": "code",
   "execution_count": 22,
   "id": "1b551946-ac16-48bb-bf81-f9feb0f58cf8",
   "metadata": {},
   "outputs": [],
   "source": [
    "res = client.chat.completions.create(model=\"gpt-4o-mini\", messages=[{\"role\":\"user\", \"content\":\"give me a list of all capitals, please follow the exact format don't add any extra content\\nformat: capitals=<json_array_of_strings>\"}])"
   ]
  },
  {
   "cell_type": "code",
   "execution_count": 23,
   "id": "f519778f-ffdf-4aaf-bd16-b4aa81c0734c",
   "metadata": {},
   "outputs": [
    {
     "name": "stdout",
     "output_type": "stream",
     "text": [
      "capitals=[\"Kabul\", \"Tirana\", \"Algiers\", \"Andorra la Vella\", \"Luanda\", \"Saint John's\", \"Buenos Aires\", \"Yerevan\", \"Canberra\", \"Vienna\", \"Baku\", \"Nassau\", \"Managua\", \"Port-au-Prince\", \"Tegucigalpa\", \"Budapest\", \"Reykjavik\", \"Rome\", \"San Salvador\", \"Malabo\", \"Asunción\", \"Bangui\", \"Porto-Novo\", \"Bratislava\", \"Ljubljana\", \"Madrid\", \"Tallinn\", \"Tiranë\", \"Tashkent\", \"Dhaka\", \"Oslo\", \"Cairo\", \"Nairobi\", \"Lisbon\", \"Doha\", \"Warsaw\", \"Lisbon\", \"Lima\", \"Monrovia\", \"Tripoli\", \"Vaduz\", \"Antananarivo\", \"Lilongwe\", \"Kuala Lumpur\", \"Bishkek\", \"Kathmandu\", \"Amsterdam\", \"Algiers\", \"Helsinki\", \"Athens\", \"Tbilisi\", \"Accra\", \"Banjul\", \"Bucharest\", \"Moscow\", \"Dublin\", \"Djakarta\", \"Kingston\", \"Nassau\", \"San José\", \"Port Moresby\", \"Asunción\", \"Berlin\", \"Pretoria\", \"Johannesburg\", \"Cape Town\", \"Singapore\", \"Bridgetown\", \"Canberra\", \"Helsinki\", \"Athens\", \"Suva\", \"Kingston\", \"Wellington\", \"Stockholm\", \"Bern\", \"Tunis\", \"Harare\", \"Yamoussoukro\", \"Nairobi\", \"Lusaka\", \"Zagreb\", \"Chisinau\", \"Baku\", \"Tbilisi\", \"Yerevan\", \"Astana\", \"Bamako\", \"Monaco\", \"Maputo\", \"Lima\", \"Willemstad\", \"Luanda\", \"Lagos\", \"Niamey\", \"Riga\", \"Nicosia\", \"Baghdad\", \"Hanoi\", \"Tunis\", \"Moscow\", \"Vienna\", \"Sofia\", \"Brussels\", \"Copenhagen\", \"Oslo\", \"Amsterdam\", \"Berlin\"]\n"
     ]
    }
   ],
   "source": [
    "print(res.choices[0].message.content)"
   ]
  },
  {
   "cell_type": "code",
   "execution_count": null,
   "id": "55793f6d-d4ea-4afc-a853-18867786be0c",
   "metadata": {},
   "outputs": [],
   "source": []
  }
 ],
 "metadata": {
  "kernelspec": {
   "display_name": "Python 3 (ipykernel)",
   "language": "python",
   "name": "python3"
  },
  "language_info": {
   "codemirror_mode": {
    "name": "ipython",
    "version": 3
   },
   "file_extension": ".py",
   "mimetype": "text/x-python",
   "name": "python",
   "nbconvert_exporter": "python",
   "pygments_lexer": "ipython3",
   "version": "3.11.3"
  }
 },
 "nbformat": 4,
 "nbformat_minor": 5
}
