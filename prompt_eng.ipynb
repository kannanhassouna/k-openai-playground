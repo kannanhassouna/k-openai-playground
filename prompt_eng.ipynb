{
 "cells": [
  {
   "cell_type": "code",
   "execution_count": 2,
   "id": "84f32f69-61f3-4782-a3ae-ce3964267506",
   "metadata": {},
   "outputs": [],
   "source": [
    "# prompt engineering intro"
   ]
  },
  {
   "cell_type": "code",
   "execution_count": 4,
   "id": "327b7ee0-f8e2-47e4-82a3-4e376718801d",
   "metadata": {},
   "outputs": [],
   "source": [
    "# prompt engineering is to give the model a task to complete for you. (not only completion)\n",
    "# for example give me a list of all cities in json files. \n",
    "# but for building a good prompt you need three things:\n",
    "#  - Task (clear instructions how the model could do the task).\n",
    "#  - Input (if there is any).\n",
    "#  - Output format (otherwise the model will pick a format from his own choice). "
   ]
  },
  {
   "cell_type": "code",
   "execution_count": 5,
   "id": "80045d8b-cc16-4429-af98-31d7a71fcd97",
   "metadata": {},
   "outputs": [],
   "source": [
    "from openai import OpenAI "
   ]
  },
  {
   "cell_type": "code",
   "execution_count": 6,
   "id": "5b7ade0f-dbc1-4376-9851-0f1ea723d6ca",
   "metadata": {},
   "outputs": [],
   "source": [
    "from dotenv import load_dotenv"
   ]
  },
  {
   "cell_type": "code",
   "execution_count": 8,
   "id": "faaa9159-25d2-49e1-884f-00a211402497",
   "metadata": {},
   "outputs": [],
   "source": [
    "import os"
   ]
  },
  {
   "cell_type": "code",
   "execution_count": 10,
   "id": "6a6b834d-5d76-4d09-a712-7c8ec9d6d5ef",
   "metadata": {},
   "outputs": [
    {
     "data": {
      "text/plain": [
       "True"
      ]
     },
     "execution_count": 10,
     "metadata": {},
     "output_type": "execute_result"
    }
   ],
   "source": [
    "load_dotenv()"
   ]
  },
  {
   "cell_type": "code",
   "execution_count": 11,
   "id": "1949a356-6510-4c9f-9194-f0384f8928ad",
   "metadata": {},
   "outputs": [],
   "source": [
    "client = OpenAI(api_key=os.getenv('OPENAI_API_KEY'))"
   ]
  },
  {
   "cell_type": "code",
   "execution_count": 22,
   "id": "1b551946-ac16-48bb-bf81-f9feb0f58cf8",
   "metadata": {},
   "outputs": [],
   "source": [
    "res = client.chat.completions.create(model=\"gpt-4o-mini\", messages=[{\"role\":\"user\", \"content\":\"give me a list of all capitals, please follow the exact format don't add any extra content\\nformat: capitals=<json_array_of_strings>\"}])"
   ]
  },
  {
   "cell_type": "code",
   "execution_count": 23,
   "id": "f519778f-ffdf-4aaf-bd16-b4aa81c0734c",
   "metadata": {},
   "outputs": [
    {
     "name": "stdout",
     "output_type": "stream",
     "text": [
      "capitals=[\"Kabul\", \"Tirana\", \"Algiers\", \"Andorra la Vella\", \"Luanda\", \"Saint John's\", \"Buenos Aires\", \"Yerevan\", \"Canberra\", \"Vienna\", \"Baku\", \"Nassau\", \"Managua\", \"Port-au-Prince\", \"Tegucigalpa\", \"Budapest\", \"Reykjavik\", \"Rome\", \"San Salvador\", \"Malabo\", \"Asunción\", \"Bangui\", \"Porto-Novo\", \"Bratislava\", \"Ljubljana\", \"Madrid\", \"Tallinn\", \"Tiranë\", \"Tashkent\", \"Dhaka\", \"Oslo\", \"Cairo\", \"Nairobi\", \"Lisbon\", \"Doha\", \"Warsaw\", \"Lisbon\", \"Lima\", \"Monrovia\", \"Tripoli\", \"Vaduz\", \"Antananarivo\", \"Lilongwe\", \"Kuala Lumpur\", \"Bishkek\", \"Kathmandu\", \"Amsterdam\", \"Algiers\", \"Helsinki\", \"Athens\", \"Tbilisi\", \"Accra\", \"Banjul\", \"Bucharest\", \"Moscow\", \"Dublin\", \"Djakarta\", \"Kingston\", \"Nassau\", \"San José\", \"Port Moresby\", \"Asunción\", \"Berlin\", \"Pretoria\", \"Johannesburg\", \"Cape Town\", \"Singapore\", \"Bridgetown\", \"Canberra\", \"Helsinki\", \"Athens\", \"Suva\", \"Kingston\", \"Wellington\", \"Stockholm\", \"Bern\", \"Tunis\", \"Harare\", \"Yamoussoukro\", \"Nairobi\", \"Lusaka\", \"Zagreb\", \"Chisinau\", \"Baku\", \"Tbilisi\", \"Yerevan\", \"Astana\", \"Bamako\", \"Monaco\", \"Maputo\", \"Lima\", \"Willemstad\", \"Luanda\", \"Lagos\", \"Niamey\", \"Riga\", \"Nicosia\", \"Baghdad\", \"Hanoi\", \"Tunis\", \"Moscow\", \"Vienna\", \"Sofia\", \"Brussels\", \"Copenhagen\", \"Oslo\", \"Amsterdam\", \"Berlin\"]\n"
     ]
    }
   ],
   "source": [
    "print(res.choices[0].message.content)"
   ]
  },
  {
   "cell_type": "code",
   "execution_count": 24,
   "id": "55793f6d-d4ea-4afc-a853-18867786be0c",
   "metadata": {},
   "outputs": [],
   "source": [
    "# try to always give clear instructions, the more clear and accurate the more you get the wanted results "
   ]
  },
  {
   "cell_type": "code",
   "execution_count": 32,
   "id": "47475c88-5646-479d-8b77-786159920789",
   "metadata": {},
   "outputs": [],
   "source": [
    "res=client.chat.completions.create(model=\"gpt-4o-mini\", messages=[{\"role\": \"user\", \"content\": \"### instructions ###\\n add two words to complete the sentance  \\n humans are\"}])"
   ]
  },
  {
   "cell_type": "code",
   "execution_count": 33,
   "id": "25e2431c-5fcc-4de9-b8ad-5539d1a2f5cc",
   "metadata": {},
   "outputs": [
    {
     "name": "stdout",
     "output_type": "stream",
     "text": [
      "humans are inherently social beings.\n"
     ]
    }
   ],
   "source": [
    "print(res.choices[0].message.content)"
   ]
  },
  {
   "cell_type": "code",
   "execution_count": null,
   "id": "0ad971b4-68d5-408e-9894-f937edaeec87",
   "metadata": {},
   "outputs": [],
   "source": []
  },
  {
   "cell_type": "code",
   "execution_count": 34,
   "id": "8619da9d-5044-4e1c-90c6-3e0fa2d0eb02",
   "metadata": {},
   "outputs": [],
   "source": [
    "wiki_paragraph=\"\"\" Alaska (/əˈlæskə/ ⓘ ə-LASS-kə) is a non-contiguous U.S. state on the northwest extremity of North America. Part of the Western United States region, it is one of the two non-contiguous U.S. states, alongside Hawaii. Alaska is also considered to be the northernmost, westernmost, and easternmost (the Aleutian Islands cross the 180th meridian into the eastern hemisphere) state in the United States. It borders the Canadian territory of Yukon and the province of British Columbia to the east. It shares a western maritime border, in the Bering Strait, with Russia's Chukotka Autonomous Okrug. The Chukchi and Beaufort Seas of the Arctic Ocean lie to the north, and the Pacific Ocean lies to the south. Technically, it is a semi-exclave of the U.S., and is the largest exclave in the world.\n",
    "\n",
    "Alaska is the largest U.S. state by area, comprising more total area than the following three largest states of Texas, California, and Montana combined, and is the seventh-largest subnational division in the world. It is the third-least populous and most sparsely populated U.S. state, but is, with a population of 736,081 as of 2020, the continent's most populous territory located mostly north of the 60th parallel, with more than quadruple the combined populations of Northern Canada and Greenland.[6] The state contains the four largest cities in the United States by area, including the state capital of Juneau. The state's most populous city is Anchorage, and approximately half of Alaska's residents live within its metropolitan area. \"\"\"\n"
   ]
  },
  {
   "cell_type": "code",
   "execution_count": 37,
   "id": "203f5ad9-2e2c-48b2-b8d8-f9be115f9faf",
   "metadata": {},
   "outputs": [],
   "source": [
    "res = client.chat.completions.create(model=\"gpt-4o-mini\", messages=[{\"role\": \"user\", \"content\": f'get me the places in the input paragraph in the following format places=<json_array_of_places> and please dont add any extra content \\n paragraph={wiki_paragraph}'}])"
   ]
  },
  {
   "cell_type": "code",
   "execution_count": 38,
   "id": "d811d759-521a-4083-842c-bbe680569630",
   "metadata": {},
   "outputs": [
    {
     "name": "stdout",
     "output_type": "stream",
     "text": [
      "places=[\"Alaska\", \"North America\", \"Western United States\", \"Hawaii\", \"Yukon\", \"British Columbia\", \"Bering Strait\", \"Russia\", \"Chukotka Autonomous Okrug\", \"Chukchi Sea\", \"Beaufort Sea\", \"Arctic Ocean\", \"Pacific Ocean\", \"Texas\", \"California\", \"Montana\", \"Northern Canada\", \"Greenland\", \"Juneau\", \"Anchorage\"]\n"
     ]
    }
   ],
   "source": [
    "print(res.choices[0].message.content)"
   ]
  },
  {
   "cell_type": "code",
   "execution_count": 49,
   "id": "24040c7e-0866-4b3e-a2d0-b9f908a78c57",
   "metadata": {},
   "outputs": [],
   "source": [
    "res = client.chat.completions.create(model=\"gpt-4o-mini\", messages=[{\"role\": \"user\", \"content\": f'get me all the countries and their popluation from the input paragraph\\n desired format: csv file with two columns place, population please dont add any extra content \\n paragraph={wiki_paragraph}'}])"
   ]
  },
  {
   "cell_type": "code",
   "execution_count": 51,
   "id": "3153eadf-d43d-40b3-bcd3-a7321f55d59c",
   "metadata": {},
   "outputs": [
    {
     "name": "stdout",
     "output_type": "stream",
     "text": [
      "```\n",
      "place,population\n",
      "Alaska,736081\n",
      "Canada,N/A\n",
      "Greenland,N/A\n",
      "Russia,N/A\n",
      "```\n"
     ]
    }
   ],
   "source": [
    "print(res.choices[0].message.content)"
   ]
  },
  {
   "cell_type": "code",
   "execution_count": 56,
   "id": "e6bb6093-cd2e-45bc-a3ec-fbcecb92c1cf",
   "metadata": {},
   "outputs": [],
   "source": [
    "res=client.chat.completions.create(model=\"gpt-4o-mini\", messages=[{\"role\": \"user\", \"content\": \"get me the top 50 populated cities with their population \\n desired output: csv file dont add any extra meta only the csv format \"}])"
   ]
  },
  {
   "cell_type": "code",
   "execution_count": 57,
   "id": "4f4cfecb-1849-40ac-9c07-dcd549fd80ca",
   "metadata": {},
   "outputs": [
    {
     "name": "stdout",
     "output_type": "stream",
     "text": [
      "Sure! Here is the data in CSV format for the top 50 most populated cities along with their populations:\n",
      "\n",
      "```csv\n",
      "City,Population\n",
      "Tokyo,37843000\n",
      "Delhi,28514000\n",
      "Shanghai,25780000\n",
      "São Paulo,21715000\n",
      "Mexico City,21540000\n",
      "Dhaka,20510000\n",
      "Cairo,20076000\n",
      "Mumbai,20025000\n",
      "Beijing,19618000\n",
      "Osaka,19281000\n",
      "Chongqing,15872000\n",
      "Istanbul,15424000\n",
      "Karachi,14910000\n",
      "Buenos Aires,14900000\n",
      "Kolkata,14910000\n",
      "Kinshasa,14550000\n",
      "Manila,13930000\n",
      "Rio de Janeiro,13670000\n",
      "Tianjin,13400000\n",
      "Guangzhou,13081000\n",
      "Lagos,14000000\n",
      "Moscow,11920000\n",
      "Shenzhen,13020000\n",
      "Chennai,10000000\n",
      "Jakarta,10020000\n",
      "Lima,9492000\n",
      "Bangkok,9300000\n",
      "Chengdu,9674000\n",
      "Hyderabad,9782000\n",
      "Tehran,8700000\n",
      "Hanoi,8100000\n",
      "Surat,6700000\n",
      "Puebla,3400000\n",
      "Los Angeles,10000000\n",
      "London,8982000\n",
      "Bangalore,8420000\n",
      "Santiago,7000000\n",
      "Riyadh,7500000\n",
      "Detroit,6700000\n",
      "Philadelphia,6100000\n",
      "Dallas,13400000\n",
      "San Diego,14000000\n",
      "Houston,21000000\n",
      "Atlanta,6000000\n",
      "Phoenix,16800000\n",
      "Seattle,7300000\n",
      "Minneapolis,4230000\n",
      "San Antonio,2000000\n",
      "San Jose,1000000\n",
      "```\n",
      "\n",
      "You can copy this text and save it in a file with a `.csv` extension.\n"
     ]
    }
   ],
   "source": [
    "print(res.choices[0].message.content)"
   ]
  }
 ],
 "metadata": {
  "kernelspec": {
   "display_name": "Python 3 (ipykernel)",
   "language": "python",
   "name": "python3"
  },
  "language_info": {
   "codemirror_mode": {
    "name": "ipython",
    "version": 3
   },
   "file_extension": ".py",
   "mimetype": "text/x-python",
   "name": "python",
   "nbconvert_exporter": "python",
   "pygments_lexer": "ipython3",
   "version": "3.11.3"
  }
 },
 "nbformat": 4,
 "nbformat_minor": 5
}
